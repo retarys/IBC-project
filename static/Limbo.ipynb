{
 "cells": [
  {
   "cell_type": "code",
   "execution_count": 2,
   "id": "3b60f56e",
   "metadata": {},
   "outputs": [
    {
     "ename": "ModuleNotFoundError",
     "evalue": "No module named 'pandas'",
     "output_type": "error",
     "traceback": [
      "\u001b[1;31m---------------------------------------------------------------------------\u001b[0m",
      "\u001b[1;31mModuleNotFoundError\u001b[0m                       Traceback (most recent call last)",
      "\u001b[1;32m~\\AppData\\Local\\Temp/ipykernel_7556/2688908537.py\u001b[0m in \u001b[0;36m<module>\u001b[1;34m\u001b[0m\n\u001b[1;32m----> 1\u001b[1;33m \u001b[1;32mimport\u001b[0m \u001b[0mpandas\u001b[0m \u001b[1;32mas\u001b[0m \u001b[0mpd\u001b[0m\u001b[1;33m\u001b[0m\u001b[1;33m\u001b[0m\u001b[0m\n\u001b[0m\u001b[0;32m      2\u001b[0m \u001b[1;32mimport\u001b[0m \u001b[0mrequests\u001b[0m\u001b[1;33m\u001b[0m\u001b[1;33m\u001b[0m\u001b[0m\n\u001b[0;32m      3\u001b[0m \u001b[1;32mimport\u001b[0m \u001b[0mnumpy\u001b[0m \u001b[1;32mas\u001b[0m \u001b[0mnp\u001b[0m\u001b[1;33m\u001b[0m\u001b[1;33m\u001b[0m\u001b[0m\n",
      "\u001b[1;31mModuleNotFoundError\u001b[0m: No module named 'pandas'"
     ]
    }
   ],
   "source": [
    "from bs4 import BeautifulSoup\n",
    "import pandas as pd\n",
    "import requests\n",
    "import numpy as np"
   ]
  },
  {
   "cell_type": "code",
   "execution_count": null,
   "id": "352f4bff",
   "metadata": {},
   "outputs": [],
   "source": [
    "text = []\n",
    "date = []"
   ]
  },
  {
   "cell_type": "code",
   "execution_count": null,
   "id": "a0733382",
   "metadata": {},
   "outputs": [],
   "source": [
    "html_text = requests.get('http://kenesh.kg/ru').text\n",
    "soup = BeautifulSoup(html_text, 'lxml')"
   ]
  },
  {
   "cell_type": "code",
   "execution_count": null,
   "id": "8ae1001c",
   "metadata": {},
   "outputs": [],
   "source": [
    "news = soup.find_all('div', class_ = 'news-item-row-info')\n",
    "for new in news:\n",
    "    date.append(new.find('span').text.replace(' ', '').replace('\\n', ''))\n",
    "    text.append(new.find('h3', class_=\"news-item-row-title\").text)"
   ]
  },
  {
   "cell_type": "code",
   "execution_count": null,
   "id": "f2d44633",
   "metadata": {},
   "outputs": [
    {
     "data": {
      "text/plain": [
       "['10-12-2021',\n",
       " '10-12-2021',\n",
       " '10-12-2021',\n",
       " '09-12-2021',\n",
       " '09-12-2021',\n",
       " '09-12-2021',\n",
       " '09-12-2021',\n",
       " '09-12-2021',\n",
       " '09-12-2021',\n",
       " '09-12-2021',\n",
       " '09-12-2021',\n",
       " '09-12-2021']"
      ]
     },
     "execution_count": 7,
     "metadata": {},
     "output_type": "execute_result"
    }
   ],
   "source": [
    "date"
   ]
  },
  {
   "cell_type": "code",
   "execution_count": null,
   "id": "cd061990",
   "metadata": {},
   "outputs": [
    {
     "data": {
      "text/html": [
       "<div>\n",
       "<style scoped>\n",
       "    .dataframe tbody tr th:only-of-type {\n",
       "        vertical-align: middle;\n",
       "    }\n",
       "\n",
       "    .dataframe tbody tr th {\n",
       "        vertical-align: top;\n",
       "    }\n",
       "\n",
       "    .dataframe thead th {\n",
       "        text-align: right;\n",
       "    }\n",
       "</style>\n",
       "<table border=\"1\" class=\"dataframe\">\n",
       "  <thead>\n",
       "    <tr style=\"text-align: right;\">\n",
       "      <th></th>\n",
       "      <th>Title</th>\n",
       "      <th>Date</th>\n",
       "    </tr>\n",
       "  </thead>\n",
       "  <tbody>\n",
       "    <tr>\n",
       "      <th>0</th>\n",
       "      <td>Комитет по бюджету и финансам Жогорку Кенеша К...</td>\n",
       "      <td>10-12-2021</td>\n",
       "    </tr>\n",
       "    <tr>\n",
       "      <th>1</th>\n",
       "      <td>Комитет по бюджету и финансам Жогорку Кенеша К...</td>\n",
       "      <td>10-12-2021</td>\n",
       "    </tr>\n",
       "    <tr>\n",
       "      <th>2</th>\n",
       "      <td>Направлены на голосования законопроекты о рати...</td>\n",
       "      <td>10-12-2021</td>\n",
       "    </tr>\n",
       "    <tr>\n",
       "      <th>3</th>\n",
       "      <td>Рассмотрены поправки в Кодекс о неналоговых до...</td>\n",
       "      <td>09-12-2021</td>\n",
       "    </tr>\n",
       "    <tr>\n",
       "      <th>4</th>\n",
       "      <td>Направлен на голосование законопроект «О внесе...</td>\n",
       "      <td>09-12-2021</td>\n",
       "    </tr>\n",
       "    <tr>\n",
       "      <th>5</th>\n",
       "      <td>Рассмотрены поправки в Земельный кодекс, Лесно...</td>\n",
       "      <td>09-12-2021</td>\n",
       "    </tr>\n",
       "    <tr>\n",
       "      <th>6</th>\n",
       "      <td>Рассмотрен законопроект о внесении изменений в...</td>\n",
       "      <td>09-12-2021</td>\n",
       "    </tr>\n",
       "    <tr>\n",
       "      <th>7</th>\n",
       "      <td>Депутаты подняли вопросы строительства образов...</td>\n",
       "      <td>09-12-2021</td>\n",
       "    </tr>\n",
       "    <tr>\n",
       "      <th>8</th>\n",
       "      <td>Депутаты озвучили ряд социально-экономических ...</td>\n",
       "      <td>09-12-2021</td>\n",
       "    </tr>\n",
       "    <tr>\n",
       "      <th>9</th>\n",
       "      <td>Депутаты К.Орозова и А.Осмонов обозначили проб...</td>\n",
       "      <td>09-12-2021</td>\n",
       "    </tr>\n",
       "    <tr>\n",
       "      <th>10</th>\n",
       "      <td>Депутат Д. Бекешев поднял вопрос о сбросе Каза...</td>\n",
       "      <td>09-12-2021</td>\n",
       "    </tr>\n",
       "  </tbody>\n",
       "</table>\n",
       "</div>"
      ],
      "text/plain": [
       "                                                Title        Date\n",
       "0   Комитет по бюджету и финансам Жогорку Кенеша К...  10-12-2021\n",
       "1   Комитет по бюджету и финансам Жогорку Кенеша К...  10-12-2021\n",
       "2   Направлены на голосования законопроекты о рати...  10-12-2021\n",
       "3   Рассмотрены поправки в Кодекс о неналоговых до...  09-12-2021\n",
       "4   Направлен на голосование законопроект «О внесе...  09-12-2021\n",
       "5   Рассмотрены поправки в Земельный кодекс, Лесно...  09-12-2021\n",
       "6   Рассмотрен законопроект о внесении изменений в...  09-12-2021\n",
       "7   Депутаты подняли вопросы строительства образов...  09-12-2021\n",
       "8   Депутаты озвучили ряд социально-экономических ...  09-12-2021\n",
       "9   Депутаты К.Орозова и А.Осмонов обозначили проб...  09-12-2021\n",
       "10  Депутат Д. Бекешев поднял вопрос о сбросе Каза...  09-12-2021"
      ]
     },
     "execution_count": 8,
     "metadata": {},
     "output_type": "execute_result"
    }
   ],
   "source": [
    "df = pd.DataFrame(list(zip(text,date)),\n",
    "               columns =['Title', 'Date'])\n",
    "df"
   ]
  },
  {
   "cell_type": "code",
   "execution_count": null,
   "id": "377dce1d",
   "metadata": {},
   "outputs": [],
   "source": []
  }
 ],
 "metadata": {
  "kernelspec": {
   "display_name": "Python 3 (ipykernel)",
   "language": "python",
   "name": "python3"
  },
  "language_info": {
   "codemirror_mode": {
    "name": "ipython",
    "version": 3
   },
   "file_extension": ".py",
   "mimetype": "text/x-python",
   "name": "python",
   "nbconvert_exporter": "python",
   "pygments_lexer": "ipython3",
   "version": "3.10.0"
  }
 },
 "nbformat": 4,
 "nbformat_minor": 5
}
